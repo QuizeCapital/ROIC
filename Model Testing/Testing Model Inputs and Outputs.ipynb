{
 "cells": [
  {
   "cell_type": "markdown",
   "metadata": {},
   "source": [
    "Test Average ROICS by calculating average ROICS for\n",
    "random or a group of random keys/ticker and compare to\n",
    "our analysis code\n",
    "\n",
    "<figure>\n",
    "  <img\n",
    "  src=\"Screen Shot 2022-10-24 at 1.44.23 PM.png\"\n",
    "  width=\"500\" \n",
    "  height=\"500\"\n",
    "  alt=\"Actual Average ROIC for MSFT\">\n",
    "  <figcaption>Model Average ROIC for MSFT</figcaption>\n",
    "</figure>"
   ]
  },
  {
   "cell_type": "code",
   "execution_count": 19,
   "metadata": {},
   "outputs": [
    {
     "name": "stdout",
     "output_type": "stream",
     "text": [
      "0.3254574097684419\n"
     ]
    }
   ],
   "source": [
    "import sys\n",
    "path = \"/Users/adamszequi/Desktop/Clones/UniversalModules\"\n",
    "sys.path.append(path)\n",
    "import statistics\n",
    "import pandas as pd\n",
    "values = []\n",
    "\n",
    "from ExternalModules import modulesSmartFactor\n",
    "\n",
    "openData = modulesSmartFactor().openJson('/Users/adamszequi/Desktop/Clones/ROIC /Data/ROIC data.json')\n",
    "for _ in openData:\n",
    "    for key, value in _.items():\n",
    "        if key == 'MSFT':\n",
    "            values.extend(valueJunior for keyJunior, valueJunior in value.items())\n",
    "print(statistics.mean(values))"
   ]
  },
  {
   "cell_type": "markdown",
   "metadata": {},
   "source": []
  },
  {
   "cell_type": "code",
   "execution_count": 8,
   "metadata": {},
   "outputs": [
    {
     "name": "stdout",
     "output_type": "stream",
     "text": [
      "{'CMCSA':              0\n",
      "1980  0.693147\n",
      "1981  0.004124\n",
      "1982  0.259512\n",
      "1983  0.294798\n",
      "1984  0.282863\n",
      "1985  0.523947\n",
      "1986  0.154962\n",
      "1987  0.327377\n",
      "1988  0.045810\n",
      "1989  0.412956\n",
      "1990 -0.280514\n",
      "1991  0.272867\n",
      "1992  0.160623\n",
      "1993  0.629898\n",
      "1994 -0.402751\n",
      "1995  0.136576\n",
      "1996 -0.014085\n",
      "1997  0.614010\n",
      "1998  0.581063\n",
      "1999  0.503455\n",
      "2000 -0.123649\n",
      "2001 -0.103797\n",
      "2002 -0.421041\n",
      "2003  0.279280\n",
      "2004  0.009662\n",
      "2005 -0.237546\n",
      "2006  0.478592\n",
      "2007 -0.443084\n",
      "2008 -0.047435\n",
      "2009 -0.064872\n",
      "2010  0.258231\n",
      "2011  0.058176\n",
      "2012  0.421928\n",
      "2013  0.299489\n",
      "2014  0.120005\n",
      "2015 -0.016172\n",
      "2016  0.215929\n",
      "2017  0.148445\n",
      "2018 -0.187448\n",
      "2019  0.268812\n",
      "2020  0.144056\n",
      "2021 -0.003570}\n"
     ]
    }
   ],
   "source": [
    "import sys \n",
    "path = \"/Users/adamszequi/Desktop/Clones/UniversalModules\"\n",
    "sys.path.append(path)\n",
    "from ExternalModules import modulesSmartFactor\n",
    "\n",
    "import statistics\n",
    "import pandas as pd\n",
    "import json\n",
    "\n",
    "rawHistoricalPriceData = '/Users/adamszequi/Desktop/Clones/ROIC /Data/Annual Historical Prices.json'\n",
    "openPriceData = modulesSmartFactor().openJson(rawHistoricalPriceData)\n",
    "        \n",
    "flattenedPriceData = {\n",
    "        key:\n",
    "        pd.DataFrame((json.loads(value).values()), json.loads(value).keys() \n",
    "                        )[:-1]\n",
    "        \n",
    "        for elements in openPriceData\n",
    "        for key, value in elements.items() \n",
    "        if  key== 'CMCSA'\n",
    "        }\n",
    "        \n",
    "print(flattenedPriceData)"
   ]
  }
 ],
 "metadata": {
  "kernelspec": {
   "display_name": "Python 3.9.7 64-bit",
   "language": "python",
   "name": "python3"
  },
  "language_info": {
   "codemirror_mode": {
    "name": "ipython",
    "version": 3
   },
   "file_extension": ".py",
   "mimetype": "text/x-python",
   "name": "python",
   "nbconvert_exporter": "python",
   "pygments_lexer": "ipython3",
   "version": "3.9.7"
  },
  "orig_nbformat": 4,
  "vscode": {
   "interpreter": {
    "hash": "aee8b7b246df8f9039afb4144a1f6fd8d2ca17a180786b69acc140d282b71a49"
   }
  }
 },
 "nbformat": 4,
 "nbformat_minor": 2
}
