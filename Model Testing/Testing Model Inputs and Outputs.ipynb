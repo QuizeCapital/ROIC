{
 "cells": [
  {
   "cell_type": "markdown",
   "metadata": {},
   "source": [
    "Test Average ROICS by calculating average ROICS for\n",
    "random or a group of random keys/ticker and compare to\n",
    "our analysis code\n",
    "\n",
    "<div align=\"center\">\n",
    "    <img src=\"Screen Shot 2022-10-09 at 12.02.16 PM.png\" width=\"1000px\"</img> \n",
    "</div>"
   ]
  },
  {
   "cell_type": "code",
   "execution_count": 17,
   "metadata": {},
   "outputs": [
    {
     "name": "stdout",
     "output_type": "stream",
     "text": [
      "0.3254574097684419\n"
     ]
    }
   ],
   "source": [
    "import sys\n",
    "path = \"/Users/adamszequi/Desktop/Clones/UniversalModules\"\n",
    "sys.path.append(path)\n",
    "import statistics\n",
    "import pandas as pd\n",
    "values = []\n",
    "\n",
    "from ExternalModules import modulesSmartFactor\n",
    "\n",
    "openData = modulesSmartFactor().openJson('/Users/adamszequi/Desktop/Clones/ROIC /Data/ROIC data.json')\n",
    "for _ in openData:\n",
    "    for key, value in _.items():\n",
    "        if key == 'MSFT':\n",
    "            values.extend(valueJunior for keyJunior, valueJunior in value.items())\n",
    "print(statistics.mean(values))"
   ]
  }
 ],
 "metadata": {
  "kernelspec": {
   "display_name": "Python 3.9.7 64-bit",
   "language": "python",
   "name": "python3"
  },
  "language_info": {
   "codemirror_mode": {
    "name": "ipython",
    "version": 3
   },
   "file_extension": ".py",
   "mimetype": "text/x-python",
   "name": "python",
   "nbconvert_exporter": "python",
   "pygments_lexer": "ipython3",
   "version": "3.9.7"
  },
  "orig_nbformat": 4,
  "vscode": {
   "interpreter": {
    "hash": "aee8b7b246df8f9039afb4144a1f6fd8d2ca17a180786b69acc140d282b71a49"
   }
  }
 },
 "nbformat": 4,
 "nbformat_minor": 2
}
